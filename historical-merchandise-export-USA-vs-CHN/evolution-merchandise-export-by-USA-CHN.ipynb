{
 "cells": [
  {
   "cell_type": "code",
   "execution_count": 1,
   "metadata": {
    "collapsed": true
   },
   "outputs": [],
   "source": [
    "# Data Source: https://www.kaggle.com/worldbank/world-development-indicators\n",
    "# Folder: 'world-development-indicators'"
   ]
  },
  {
   "cell_type": "markdown",
   "metadata": {},
   "source": [
    "# Evolution of the worlds biggest exporters: USA vs China"
   ]
  },
  {
   "cell_type": "markdown",
   "metadata": {},
   "source": [
    "## Load the Dataset and select the indicator and countries"
   ]
  },
  {
   "cell_type": "code",
   "execution_count": 2,
   "metadata": {
    "collapsed": true
   },
   "outputs": [],
   "source": [
    "import pandas as pd\n",
    "import numpy as np\n",
    "import random\n",
    "import matplotlib.pyplot as plt"
   ]
  },
  {
   "cell_type": "code",
   "execution_count": 3,
   "metadata": {
    "collapsed": false
   },
   "outputs": [
    {
     "data": {
      "text/plain": [
       "(5656458, 6)"
      ]
     },
     "execution_count": 3,
     "metadata": {},
     "output_type": "execute_result"
    }
   ],
   "source": [
    "data = pd.read_csv('./world-development-indicators/Indicators.csv')\n",
    "data.shape"
   ]
  },
  {
   "cell_type": "code",
   "execution_count": 4,
   "metadata": {
    "collapsed": false
   },
   "outputs": [
    {
     "data": {
      "text/html": [
       "<div>\n",
       "<table border=\"1\" class=\"dataframe\">\n",
       "  <thead>\n",
       "    <tr style=\"text-align: right;\">\n",
       "      <th></th>\n",
       "      <th>CountryName</th>\n",
       "      <th>CountryCode</th>\n",
       "      <th>IndicatorName</th>\n",
       "      <th>IndicatorCode</th>\n",
       "      <th>Year</th>\n",
       "      <th>Value</th>\n",
       "    </tr>\n",
       "  </thead>\n",
       "  <tbody>\n",
       "    <tr>\n",
       "      <th>0</th>\n",
       "      <td>Arab World</td>\n",
       "      <td>ARB</td>\n",
       "      <td>Adolescent fertility rate (births per 1,000 wo...</td>\n",
       "      <td>SP.ADO.TFRT</td>\n",
       "      <td>1960</td>\n",
       "      <td>1.335609e+02</td>\n",
       "    </tr>\n",
       "    <tr>\n",
       "      <th>1</th>\n",
       "      <td>Arab World</td>\n",
       "      <td>ARB</td>\n",
       "      <td>Age dependency ratio (% of working-age populat...</td>\n",
       "      <td>SP.POP.DPND</td>\n",
       "      <td>1960</td>\n",
       "      <td>8.779760e+01</td>\n",
       "    </tr>\n",
       "    <tr>\n",
       "      <th>2</th>\n",
       "      <td>Arab World</td>\n",
       "      <td>ARB</td>\n",
       "      <td>Age dependency ratio, old (% of working-age po...</td>\n",
       "      <td>SP.POP.DPND.OL</td>\n",
       "      <td>1960</td>\n",
       "      <td>6.634579e+00</td>\n",
       "    </tr>\n",
       "    <tr>\n",
       "      <th>3</th>\n",
       "      <td>Arab World</td>\n",
       "      <td>ARB</td>\n",
       "      <td>Age dependency ratio, young (% of working-age ...</td>\n",
       "      <td>SP.POP.DPND.YG</td>\n",
       "      <td>1960</td>\n",
       "      <td>8.102333e+01</td>\n",
       "    </tr>\n",
       "    <tr>\n",
       "      <th>4</th>\n",
       "      <td>Arab World</td>\n",
       "      <td>ARB</td>\n",
       "      <td>Arms exports (SIPRI trend indicator values)</td>\n",
       "      <td>MS.MIL.XPRT.KD</td>\n",
       "      <td>1960</td>\n",
       "      <td>3.000000e+06</td>\n",
       "    </tr>\n",
       "  </tbody>\n",
       "</table>\n",
       "</div>"
      ],
      "text/plain": [
       "  CountryName CountryCode                                      IndicatorName  \\\n",
       "0  Arab World         ARB  Adolescent fertility rate (births per 1,000 wo...   \n",
       "1  Arab World         ARB  Age dependency ratio (% of working-age populat...   \n",
       "2  Arab World         ARB  Age dependency ratio, old (% of working-age po...   \n",
       "3  Arab World         ARB  Age dependency ratio, young (% of working-age ...   \n",
       "4  Arab World         ARB        Arms exports (SIPRI trend indicator values)   \n",
       "\n",
       "    IndicatorCode  Year         Value  \n",
       "0     SP.ADO.TFRT  1960  1.335609e+02  \n",
       "1     SP.POP.DPND  1960  8.779760e+01  \n",
       "2  SP.POP.DPND.OL  1960  6.634579e+00  \n",
       "3  SP.POP.DPND.YG  1960  8.102333e+01  \n",
       "4  MS.MIL.XPRT.KD  1960  3.000000e+06  "
      ]
     },
     "execution_count": 4,
     "metadata": {},
     "output_type": "execute_result"
    }
   ],
   "source": [
    "data.head()"
   ]
  },
  {
   "cell_type": "markdown",
   "metadata": {},
   "source": [
    "It has different indicators for different countries with the year and value of the indicator. "
   ]
  },
  {
   "cell_type": "markdown",
   "metadata": {},
   "source": [
    "### How many years of data do we have ?"
   ]
  },
  {
   "cell_type": "code",
   "execution_count": 5,
   "metadata": {
    "collapsed": false
   },
   "outputs": [
    {
     "data": {
      "text/plain": [
       "56"
      ]
     },
     "execution_count": 5,
     "metadata": {},
     "output_type": "execute_result"
    }
   ],
   "source": [
    "# How many years of data do we have ?\n",
    "years = data['Year'].unique().tolist()\n",
    "len(years)"
   ]
  },
  {
   "cell_type": "markdown",
   "metadata": {},
   "source": [
    "### What's the range of years?"
   ]
  },
  {
   "cell_type": "code",
   "execution_count": 6,
   "metadata": {
    "collapsed": false
   },
   "outputs": [
    {
     "name": "stdout",
     "output_type": "stream",
     "text": [
      "1960  to  2015\n"
     ]
    }
   ],
   "source": [
    "print(min(years),\" to \",max(years))"
   ]
  },
  {
   "cell_type": "code",
   "execution_count": 7,
   "metadata": {
    "collapsed": false
   },
   "outputs": [
    {
     "data": {
      "text/html": [
       "<div>\n",
       "<table border=\"1\" class=\"dataframe\">\n",
       "  <thead>\n",
       "    <tr style=\"text-align: right;\">\n",
       "      <th></th>\n",
       "      <th>CountryName</th>\n",
       "      <th>CountryCode</th>\n",
       "      <th>IndicatorName</th>\n",
       "      <th>IndicatorCode</th>\n",
       "      <th>Value</th>\n",
       "    </tr>\n",
       "    <tr>\n",
       "      <th>Year</th>\n",
       "      <th></th>\n",
       "      <th></th>\n",
       "      <th></th>\n",
       "      <th></th>\n",
       "      <th></th>\n",
       "    </tr>\n",
       "  </thead>\n",
       "  <tbody>\n",
       "    <tr>\n",
       "      <th>1960</th>\n",
       "      <td>Arab World</td>\n",
       "      <td>ARB</td>\n",
       "      <td>Adolescent fertility rate (births per 1,000 wo...</td>\n",
       "      <td>SP.ADO.TFRT</td>\n",
       "      <td>1.335609e+02</td>\n",
       "    </tr>\n",
       "    <tr>\n",
       "      <th>1960</th>\n",
       "      <td>Arab World</td>\n",
       "      <td>ARB</td>\n",
       "      <td>Age dependency ratio (% of working-age populat...</td>\n",
       "      <td>SP.POP.DPND</td>\n",
       "      <td>8.779760e+01</td>\n",
       "    </tr>\n",
       "    <tr>\n",
       "      <th>1960</th>\n",
       "      <td>Arab World</td>\n",
       "      <td>ARB</td>\n",
       "      <td>Age dependency ratio, old (% of working-age po...</td>\n",
       "      <td>SP.POP.DPND.OL</td>\n",
       "      <td>6.634579e+00</td>\n",
       "    </tr>\n",
       "    <tr>\n",
       "      <th>1960</th>\n",
       "      <td>Arab World</td>\n",
       "      <td>ARB</td>\n",
       "      <td>Age dependency ratio, young (% of working-age ...</td>\n",
       "      <td>SP.POP.DPND.YG</td>\n",
       "      <td>8.102333e+01</td>\n",
       "    </tr>\n",
       "    <tr>\n",
       "      <th>1960</th>\n",
       "      <td>Arab World</td>\n",
       "      <td>ARB</td>\n",
       "      <td>Arms exports (SIPRI trend indicator values)</td>\n",
       "      <td>MS.MIL.XPRT.KD</td>\n",
       "      <td>3.000000e+06</td>\n",
       "    </tr>\n",
       "  </tbody>\n",
       "</table>\n",
       "</div>"
      ],
      "text/plain": [
       "     CountryName CountryCode  \\\n",
       "Year                           \n",
       "1960  Arab World         ARB   \n",
       "1960  Arab World         ARB   \n",
       "1960  Arab World         ARB   \n",
       "1960  Arab World         ARB   \n",
       "1960  Arab World         ARB   \n",
       "\n",
       "                                          IndicatorName   IndicatorCode  \\\n",
       "Year                                                                      \n",
       "1960  Adolescent fertility rate (births per 1,000 wo...     SP.ADO.TFRT   \n",
       "1960  Age dependency ratio (% of working-age populat...     SP.POP.DPND   \n",
       "1960  Age dependency ratio, old (% of working-age po...  SP.POP.DPND.OL   \n",
       "1960  Age dependency ratio, young (% of working-age ...  SP.POP.DPND.YG   \n",
       "1960        Arms exports (SIPRI trend indicator values)  MS.MIL.XPRT.KD   \n",
       "\n",
       "             Value  \n",
       "Year                \n",
       "1960  1.335609e+02  \n",
       "1960  8.779760e+01  \n",
       "1960  6.634579e+00  \n",
       "1960  8.102333e+01  \n",
       "1960  3.000000e+06  "
      ]
     },
     "execution_count": 7,
     "metadata": {},
     "output_type": "execute_result"
    }
   ],
   "source": [
    "data.set_index(['Year']).head()"
   ]
  },
  {
   "cell_type": "markdown",
   "metadata": {},
   "source": [
    "### Create masks to select the export indicator and the countries USA and China"
   ]
  },
  {
   "cell_type": "code",
   "execution_count": 8,
   "metadata": {
    "collapsed": true
   },
   "outputs": [],
   "source": [
    "# mask_export = data['IndicatorCode'] == 'NE.EXP.GNFS.CD' TX.VAL.MRCH.CD.WT\n",
    "mask_export = data['IndicatorCode'] == 'TX.VAL.MRCH.CD.WT'\n",
    "mask_usa = data['CountryCode'] == 'USA'\n",
    "mask_chn = data['CountryCode'] == 'CHN'"
   ]
  },
  {
   "cell_type": "markdown",
   "metadata": {},
   "source": [
    "Let's apply the mask for USA:"
   ]
  },
  {
   "cell_type": "code",
   "execution_count": 9,
   "metadata": {
    "collapsed": false
   },
   "outputs": [
    {
     "data": {
      "text/html": [
       "<div>\n",
       "<table border=\"1\" class=\"dataframe\">\n",
       "  <thead>\n",
       "    <tr style=\"text-align: right;\">\n",
       "      <th></th>\n",
       "      <th>CountryName</th>\n",
       "      <th>CountryCode</th>\n",
       "      <th>IndicatorName</th>\n",
       "      <th>IndicatorCode</th>\n",
       "      <th>Value</th>\n",
       "    </tr>\n",
       "    <tr>\n",
       "      <th>Year</th>\n",
       "      <th></th>\n",
       "      <th></th>\n",
       "      <th></th>\n",
       "      <th></th>\n",
       "      <th></th>\n",
       "    </tr>\n",
       "  </thead>\n",
       "  <tbody>\n",
       "    <tr>\n",
       "      <th>1960</th>\n",
       "      <td>United States</td>\n",
       "      <td>USA</td>\n",
       "      <td>Merchandise exports (current US$)</td>\n",
       "      <td>TX.VAL.MRCH.CD.WT</td>\n",
       "      <td>2.060100e+10</td>\n",
       "    </tr>\n",
       "    <tr>\n",
       "      <th>1961</th>\n",
       "      <td>United States</td>\n",
       "      <td>USA</td>\n",
       "      <td>Merchandise exports (current US$)</td>\n",
       "      <td>TX.VAL.MRCH.CD.WT</td>\n",
       "      <td>2.103700e+10</td>\n",
       "    </tr>\n",
       "    <tr>\n",
       "      <th>1962</th>\n",
       "      <td>United States</td>\n",
       "      <td>USA</td>\n",
       "      <td>Merchandise exports (current US$)</td>\n",
       "      <td>TX.VAL.MRCH.CD.WT</td>\n",
       "      <td>2.171400e+10</td>\n",
       "    </tr>\n",
       "    <tr>\n",
       "      <th>1963</th>\n",
       "      <td>United States</td>\n",
       "      <td>USA</td>\n",
       "      <td>Merchandise exports (current US$)</td>\n",
       "      <td>TX.VAL.MRCH.CD.WT</td>\n",
       "      <td>2.338700e+10</td>\n",
       "    </tr>\n",
       "    <tr>\n",
       "      <th>1964</th>\n",
       "      <td>United States</td>\n",
       "      <td>USA</td>\n",
       "      <td>Merchandise exports (current US$)</td>\n",
       "      <td>TX.VAL.MRCH.CD.WT</td>\n",
       "      <td>2.665000e+10</td>\n",
       "    </tr>\n",
       "  </tbody>\n",
       "</table>\n",
       "</div>"
      ],
      "text/plain": [
       "        CountryName CountryCode                      IndicatorName  \\\n",
       "Year                                                                 \n",
       "1960  United States         USA  Merchandise exports (current US$)   \n",
       "1961  United States         USA  Merchandise exports (current US$)   \n",
       "1962  United States         USA  Merchandise exports (current US$)   \n",
       "1963  United States         USA  Merchandise exports (current US$)   \n",
       "1964  United States         USA  Merchandise exports (current US$)   \n",
       "\n",
       "          IndicatorCode         Value  \n",
       "Year                                   \n",
       "1960  TX.VAL.MRCH.CD.WT  2.060100e+10  \n",
       "1961  TX.VAL.MRCH.CD.WT  2.103700e+10  \n",
       "1962  TX.VAL.MRCH.CD.WT  2.171400e+10  \n",
       "1963  TX.VAL.MRCH.CD.WT  2.338700e+10  \n",
       "1964  TX.VAL.MRCH.CD.WT  2.665000e+10  "
      ]
     },
     "execution_count": 9,
     "metadata": {},
     "output_type": "execute_result"
    }
   ],
   "source": [
    "data[mask_export & mask_usa].set_index(['Year']).head()"
   ]
  },
  {
   "cell_type": "markdown",
   "metadata": {},
   "source": [
    "### Create the dataframe we will use for plotting"
   ]
  },
  {
   "cell_type": "code",
   "execution_count": 10,
   "metadata": {
    "collapsed": false
   },
   "outputs": [
    {
     "data": {
      "text/html": [
       "<div>\n",
       "<table border=\"1\" class=\"dataframe\">\n",
       "  <thead>\n",
       "    <tr style=\"text-align: right;\">\n",
       "      <th></th>\n",
       "      <th>ExportChn</th>\n",
       "      <th>ExportUsa</th>\n",
       "    </tr>\n",
       "  </thead>\n",
       "  <tbody>\n",
       "    <tr>\n",
       "      <th>1960</th>\n",
       "      <td>2.57128</td>\n",
       "      <td>20.601</td>\n",
       "    </tr>\n",
       "    <tr>\n",
       "      <th>1961</th>\n",
       "      <td>1.94166</td>\n",
       "      <td>21.037</td>\n",
       "    </tr>\n",
       "    <tr>\n",
       "      <th>1962</th>\n",
       "      <td>1.91323</td>\n",
       "      <td>21.714</td>\n",
       "    </tr>\n",
       "    <tr>\n",
       "      <th>1963</th>\n",
       "      <td>2.03103</td>\n",
       "      <td>23.387</td>\n",
       "    </tr>\n",
       "    <tr>\n",
       "      <th>1964</th>\n",
       "      <td>2.25038</td>\n",
       "      <td>26.650</td>\n",
       "    </tr>\n",
       "  </tbody>\n",
       "</table>\n",
       "</div>"
      ],
      "text/plain": [
       "      ExportChn  ExportUsa\n",
       "1960    2.57128     20.601\n",
       "1961    1.94166     21.037\n",
       "1962    1.91323     21.714\n",
       "1963    2.03103     23.387\n",
       "1964    2.25038     26.650"
      ]
     },
     "execution_count": 10,
     "metadata": {},
     "output_type": "execute_result"
    }
   ],
   "source": [
    "# export columns for China and USA, indexed on Year, export values in billion dollars\n",
    "exports = pd.DataFrame({}, index=data.Year.unique())\n",
    "exports['ExportChn'] = data[mask_export & mask_chn].set_index(['Year']).Value / 1e9\n",
    "exports['ExportUsa'] = data[mask_export & mask_usa].set_index(['Year']).Value / 1e9\n",
    "exports.head()"
   ]
  },
  {
   "cell_type": "markdown",
   "metadata": {},
   "source": [
    "### Add some derived data for additional plots to give better insight"
   ]
  },
  {
   "cell_type": "code",
   "execution_count": 11,
   "metadata": {
    "collapsed": false
   },
   "outputs": [
    {
     "data": {
      "text/html": [
       "<div>\n",
       "<table border=\"1\" class=\"dataframe\">\n",
       "  <thead>\n",
       "    <tr style=\"text-align: right;\">\n",
       "      <th></th>\n",
       "      <th>ExportChn</th>\n",
       "      <th>ExportUsa</th>\n",
       "      <th>ChnWrtUsa</th>\n",
       "      <th>UsaWrtUsa</th>\n",
       "      <th>deltaChn</th>\n",
       "      <th>deltaUsa</th>\n",
       "      <th>percentDeltaChn</th>\n",
       "      <th>percentDeltaUsa</th>\n",
       "      <th>percentDeltaChnMA</th>\n",
       "      <th>percentDeltaUsaMA</th>\n",
       "    </tr>\n",
       "  </thead>\n",
       "  <tbody>\n",
       "    <tr>\n",
       "      <th>2000</th>\n",
       "      <td>249.203</td>\n",
       "      <td>781.918</td>\n",
       "      <td>0.318707</td>\n",
       "      <td>1</td>\n",
       "      <td>54.272</td>\n",
       "      <td>86.121</td>\n",
       "      <td>21.778229</td>\n",
       "      <td>11.014071</td>\n",
       "      <td>14.203477</td>\n",
       "      <td>4.302059</td>\n",
       "    </tr>\n",
       "    <tr>\n",
       "      <th>2001</th>\n",
       "      <td>266.098</td>\n",
       "      <td>729.100</td>\n",
       "      <td>0.364968</td>\n",
       "      <td>1</td>\n",
       "      <td>16.895</td>\n",
       "      <td>-52.818</td>\n",
       "      <td>6.349165</td>\n",
       "      <td>-7.244274</td>\n",
       "      <td>14.549783</td>\n",
       "      <td>4.025470</td>\n",
       "    </tr>\n",
       "    <tr>\n",
       "      <th>2002</th>\n",
       "      <td>325.596</td>\n",
       "      <td>693.103</td>\n",
       "      <td>0.469766</td>\n",
       "      <td>1</td>\n",
       "      <td>59.498</td>\n",
       "      <td>-35.997</td>\n",
       "      <td>18.273566</td>\n",
       "      <td>-5.193600</td>\n",
       "      <td>16.536161</td>\n",
       "      <td>4.597507</td>\n",
       "    </tr>\n",
       "    <tr>\n",
       "      <th>2003</th>\n",
       "      <td>438.228</td>\n",
       "      <td>724.771</td>\n",
       "      <td>0.604643</td>\n",
       "      <td>1</td>\n",
       "      <td>112.632</td>\n",
       "      <td>31.668</td>\n",
       "      <td>25.701690</td>\n",
       "      <td>4.369380</td>\n",
       "      <td>16.860067</td>\n",
       "      <td>4.731843</td>\n",
       "    </tr>\n",
       "    <tr>\n",
       "      <th>2004</th>\n",
       "      <td>593.326</td>\n",
       "      <td>814.875</td>\n",
       "      <td>0.728119</td>\n",
       "      <td>1</td>\n",
       "      <td>155.098</td>\n",
       "      <td>90.104</td>\n",
       "      <td>26.140435</td>\n",
       "      <td>11.057401</td>\n",
       "      <td>18.279466</td>\n",
       "      <td>5.916654</td>\n",
       "    </tr>\n",
       "    <tr>\n",
       "      <th>2005</th>\n",
       "      <td>761.953</td>\n",
       "      <td>901.082</td>\n",
       "      <td>0.845598</td>\n",
       "      <td>1</td>\n",
       "      <td>168.627</td>\n",
       "      <td>86.207</td>\n",
       "      <td>22.130893</td>\n",
       "      <td>9.567054</td>\n",
       "      <td>15.797481</td>\n",
       "      <td>3.529158</td>\n",
       "    </tr>\n",
       "  </tbody>\n",
       "</table>\n",
       "</div>"
      ],
      "text/plain": [
       "      ExportChn  ExportUsa  ChnWrtUsa  UsaWrtUsa  deltaChn  deltaUsa  \\\n",
       "2000    249.203    781.918   0.318707          1    54.272    86.121   \n",
       "2001    266.098    729.100   0.364968          1    16.895   -52.818   \n",
       "2002    325.596    693.103   0.469766          1    59.498   -35.997   \n",
       "2003    438.228    724.771   0.604643          1   112.632    31.668   \n",
       "2004    593.326    814.875   0.728119          1   155.098    90.104   \n",
       "2005    761.953    901.082   0.845598          1   168.627    86.207   \n",
       "\n",
       "      percentDeltaChn  percentDeltaUsa  percentDeltaChnMA  percentDeltaUsaMA  \n",
       "2000        21.778229        11.014071          14.203477           4.302059  \n",
       "2001         6.349165        -7.244274          14.549783           4.025470  \n",
       "2002        18.273566        -5.193600          16.536161           4.597507  \n",
       "2003        25.701690         4.369380          16.860067           4.731843  \n",
       "2004        26.140435        11.057401          18.279466           5.916654  \n",
       "2005        22.130893         9.567054          15.797481           3.529158  "
      ]
     },
     "execution_count": 11,
     "metadata": {},
     "output_type": "execute_result"
    }
   ],
   "source": [
    "# exports of China related to the export of the USA\n",
    "exports['ChnWrtUsa'] = exports.ExportChn / exports.ExportUsa\n",
    "exports['UsaWrtUsa'] = 1\n",
    "\n",
    "# changes of the exports year by year\n",
    "exports['deltaChn'] = exports.ExportChn.diff()\n",
    "exports['deltaUsa'] = exports.ExportUsa.diff()\n",
    "\n",
    "# percent changes of the exports\n",
    "exports['percentDeltaChn'] = exports.deltaChn / exports.ExportChn * 100\n",
    "exports['percentDeltaUsa'] = exports.deltaUsa / exports.ExportUsa * 100\n",
    "\n",
    "# smoothen the percent changes of the exports by taking moving averages over 10 years\n",
    "exports['percentDeltaChnMA'] = exports.percentDeltaChn.rolling(window=10, center=True).mean()\n",
    "exports['percentDeltaUsaMA'] = exports.percentDeltaUsa.rolling(window=10, center=True).mean()\n",
    "\n",
    "exports.loc[2000:2005, :]"
   ]
  },
  {
   "cell_type": "markdown",
   "metadata": {},
   "source": [
    "### Evolution of the exports since 2000"
   ]
  },
  {
   "cell_type": "code",
   "execution_count": 12,
   "metadata": {
    "collapsed": false,
    "scrolled": true
   },
   "outputs": [
    {
     "data": {
      "text/html": [
       "<div>\n",
       "<table border=\"1\" class=\"dataframe\">\n",
       "  <thead>\n",
       "    <tr style=\"text-align: right;\">\n",
       "      <th></th>\n",
       "      <th>ExportUsa</th>\n",
       "      <th>ExportChn</th>\n",
       "      <th>percentDeltaUsa</th>\n",
       "      <th>percentDeltaChn</th>\n",
       "    </tr>\n",
       "  </thead>\n",
       "  <tbody>\n",
       "    <tr>\n",
       "      <th>2000</th>\n",
       "      <td>781.918000</td>\n",
       "      <td>249.203</td>\n",
       "      <td>11.014071</td>\n",
       "      <td>21.778229</td>\n",
       "    </tr>\n",
       "    <tr>\n",
       "      <th>2001</th>\n",
       "      <td>729.100000</td>\n",
       "      <td>266.098</td>\n",
       "      <td>-7.244274</td>\n",
       "      <td>6.349165</td>\n",
       "    </tr>\n",
       "    <tr>\n",
       "      <th>2002</th>\n",
       "      <td>693.103000</td>\n",
       "      <td>325.596</td>\n",
       "      <td>-5.193600</td>\n",
       "      <td>18.273566</td>\n",
       "    </tr>\n",
       "    <tr>\n",
       "      <th>2003</th>\n",
       "      <td>724.771000</td>\n",
       "      <td>438.228</td>\n",
       "      <td>4.369380</td>\n",
       "      <td>25.701690</td>\n",
       "    </tr>\n",
       "    <tr>\n",
       "      <th>2004</th>\n",
       "      <td>814.875000</td>\n",
       "      <td>593.326</td>\n",
       "      <td>11.057401</td>\n",
       "      <td>26.140435</td>\n",
       "    </tr>\n",
       "    <tr>\n",
       "      <th>2005</th>\n",
       "      <td>901.082000</td>\n",
       "      <td>761.953</td>\n",
       "      <td>9.567054</td>\n",
       "      <td>22.130893</td>\n",
       "    </tr>\n",
       "    <tr>\n",
       "      <th>2006</th>\n",
       "      <td>1025.967000</td>\n",
       "      <td>968.978</td>\n",
       "      <td>12.172419</td>\n",
       "      <td>21.365294</td>\n",
       "    </tr>\n",
       "    <tr>\n",
       "      <th>2007</th>\n",
       "      <td>1148.199000</td>\n",
       "      <td>1220.456</td>\n",
       "      <td>10.645541</td>\n",
       "      <td>20.605249</td>\n",
       "    </tr>\n",
       "    <tr>\n",
       "      <th>2008</th>\n",
       "      <td>1287.442000</td>\n",
       "      <td>1430.693</td>\n",
       "      <td>10.815478</td>\n",
       "      <td>14.694767</td>\n",
       "    </tr>\n",
       "    <tr>\n",
       "      <th>2009</th>\n",
       "      <td>1056.043000</td>\n",
       "      <td>1201.612</td>\n",
       "      <td>-21.911892</td>\n",
       "      <td>-19.064473</td>\n",
       "    </tr>\n",
       "    <tr>\n",
       "      <th>2010</th>\n",
       "      <td>1278.495000</td>\n",
       "      <td>1577.754</td>\n",
       "      <td>17.399521</td>\n",
       "      <td>23.840345</td>\n",
       "    </tr>\n",
       "    <tr>\n",
       "      <th>2011</th>\n",
       "      <td>1482.508000</td>\n",
       "      <td>1898.381</td>\n",
       "      <td>13.761342</td>\n",
       "      <td>16.889497</td>\n",
       "    </tr>\n",
       "    <tr>\n",
       "      <th>2012</th>\n",
       "      <td>1545.703000</td>\n",
       "      <td>2048.714</td>\n",
       "      <td>4.088431</td>\n",
       "      <td>7.337920</td>\n",
       "    </tr>\n",
       "    <tr>\n",
       "      <th>2013</th>\n",
       "      <td>1579.593000</td>\n",
       "      <td>2209.004</td>\n",
       "      <td>2.145489</td>\n",
       "      <td>7.256211</td>\n",
       "    </tr>\n",
       "    <tr>\n",
       "      <th>2014</th>\n",
       "      <td>1623.196839</td>\n",
       "      <td>2342.747</td>\n",
       "      <td>2.686294</td>\n",
       "      <td>5.708811</td>\n",
       "    </tr>\n",
       "  </tbody>\n",
       "</table>\n",
       "</div>"
      ],
      "text/plain": [
       "        ExportUsa  ExportChn  percentDeltaUsa  percentDeltaChn\n",
       "2000   781.918000    249.203        11.014071        21.778229\n",
       "2001   729.100000    266.098        -7.244274         6.349165\n",
       "2002   693.103000    325.596        -5.193600        18.273566\n",
       "2003   724.771000    438.228         4.369380        25.701690\n",
       "2004   814.875000    593.326        11.057401        26.140435\n",
       "2005   901.082000    761.953         9.567054        22.130893\n",
       "2006  1025.967000    968.978        12.172419        21.365294\n",
       "2007  1148.199000   1220.456        10.645541        20.605249\n",
       "2008  1287.442000   1430.693        10.815478        14.694767\n",
       "2009  1056.043000   1201.612       -21.911892       -19.064473\n",
       "2010  1278.495000   1577.754        17.399521        23.840345\n",
       "2011  1482.508000   1898.381        13.761342        16.889497\n",
       "2012  1545.703000   2048.714         4.088431         7.337920\n",
       "2013  1579.593000   2209.004         2.145489         7.256211\n",
       "2014  1623.196839   2342.747         2.686294         5.708811"
      ]
     },
     "execution_count": 12,
     "metadata": {},
     "output_type": "execute_result"
    }
   ],
   "source": [
    "exports.loc[2000:, ['ExportUsa', 'ExportChn', 'percentDeltaUsa', 'percentDeltaChn']].dropna()"
   ]
  },
  {
   "cell_type": "markdown",
   "metadata": {},
   "source": [
    "In 2007 China took over the leading role of merchandise exporter"
   ]
  },
  {
   "cell_type": "markdown",
   "metadata": {},
   "source": [
    "### Let's see how exports have changed over time for both countries"
   ]
  },
  {
   "cell_type": "code",
   "execution_count": 13,
   "metadata": {
    "collapsed": false
   },
   "outputs": [
    {
     "data": {
      "image/png": "[encoded data removed]",
      "text/plain": [
       "<matplotlib.figure.Figure at 0x9265e80>"
      ]
     },
     "metadata": {},
     "output_type": "display_data"
    }
   ],
   "source": [
    "plt.gcf().set_size_inches(16, 12)\n",
    "\n",
    "# yearly evolution of the exports of China and the USA\n",
    "plt.subplot(221)\n",
    "plt.plot(exports['ExportUsa'], label=\"USA\")\n",
    "plt.plot(exports['ExportChn'], label=\"China\")\n",
    "plt.title('Merchandise Exports: USA vs China')\n",
    "plt.ylabel('export (billion USD)')\n",
    "plt.legend()\n",
    "\n",
    "# How China catched up\n",
    "plt.subplot(222)\n",
    "plt.plot(exports['UsaWrtUsa'], label=\"USA\")\n",
    "plt.plot(exports['ChnWrtUsa'], label=\"China\")\n",
    "plt.title('China export relative to USA export')\n",
    "\n",
    "# Evolution of the year on year export growth\n",
    "plt.subplot(223)\n",
    "plt.plot(exports['percentDeltaUsaMA'], label=\"USA\")\n",
    "plt.plot(exports['percentDeltaChnMA'], label=\"China\")\n",
    "plt.title('Year on year export growth (%) 10 years moving average')\n",
    "\n",
    "# Distribution of the yearly growth percentages for both countries\n",
    "plt.subplot(224)\n",
    "plt.hist(exports['percentDeltaUsa'].dropna(), 10, normed=False, label='USA', alpha=0.5)\n",
    "plt.hist(exports['percentDeltaChn'].dropna(), 10, normed=False, label='China',  alpha=0.5)\n",
    "plt.xlabel('Yearly growth (%) of export')\n",
    "plt.ylabel('number of years')\n",
    "plt.title('Distribution of yearly export growths')\n",
    "plt.show()"
   ]
  },
  {
   "cell_type": "markdown",
   "metadata": {},
   "source": [
    "* 50 years ago the USA exported 10 times as much as China\n",
    "* In 2007 China overtook the USA as the biggest exporting country\n",
    "* Since the late seventies export growth rates of the USA continuously declined while those of China kept increasing\n",
    "* Over the past 30 years China’s average export growth rate was significantly above 10%\n",
    "* Since 2000 China’s yearly export growth topped 20% in 7 years, the maximum yearly growth for the USA exports in that period was 17%"
   ]
  },
  {
   "cell_type": "markdown",
   "metadata": {},
   "source": [
    "### Other research topics\n",
    "* Correlation between Merchants Export and other indicators (eg GDP, labor cost, pollution, eductation, ...)\n",
    "* Exports vs imports evolution"
   ]
  }
 ],
 "metadata": {
  "kernelspec": {
   "display_name": "Python 3",
   "language": "python",
   "name": "python3"
  },
  "language_info": {
   "codemirror_mode": {
    "name": "ipython",
    "version": 3
   },
   "file_extension": ".py",
   "mimetype": "text/x-python",
   "name": "python",
   "nbconvert_exporter": "python",
   "pygments_lexer": "ipython3",
   "version": "3.6.0"
  }
 },
 "nbformat": 4,
 "nbformat_minor": 2
}
