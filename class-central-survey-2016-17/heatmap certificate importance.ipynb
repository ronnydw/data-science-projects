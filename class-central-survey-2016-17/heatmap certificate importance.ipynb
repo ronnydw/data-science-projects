{
 "cells": [
  {
   "cell_type": "code",
   "execution_count": 1,
   "metadata": {
    "collapsed": true
   },
   "outputs": [],
   "source": [
    "import pandas as pd\n",
    "import seaborn as sns\n",
    "import matplotlib.pyplot as plt\n",
    "sns.set(style=\"white\")\n",
    "sns.set_context(\"talk\")"
   ]
  },
  {
   "cell_type": "code",
   "execution_count": 2,
   "metadata": {
    "collapsed": true
   },
   "outputs": [],
   "source": [
    "df = pd.read_csv('raw/2016-17-ClassCentral-Survey-data-noUserText.csv', decimal=',', encoding = \"ISO-8859-1\")"
   ]
  },
  {
   "cell_type": "code",
   "execution_count": 3,
   "metadata": {
    "collapsed": true
   },
   "outputs": [],
   "source": [
    "selectors = ['Timestamp', '# MOOCs Finished', 'How important is the ability to earn a certificate when you complete a MOOC?']"
   ]
  },
  {
   "cell_type": "code",
   "execution_count": 4,
   "metadata": {},
   "outputs": [
    {
     "data": {
      "text/html": [
       "<div>\n",
       "<style>\n",
       "    .dataframe thead tr:only-child th {\n",
       "        text-align: right;\n",
       "    }\n",
       "\n",
       "    .dataframe thead th {\n",
       "        text-align: left;\n",
       "    }\n",
       "\n",
       "    .dataframe tbody tr th {\n",
       "        vertical-align: top;\n",
       "    }\n",
       "</style>\n",
       "<table border=\"1\" class=\"dataframe\">\n",
       "  <thead>\n",
       "    <tr style=\"text-align: right;\">\n",
       "      <th></th>\n",
       "      <th>Timestamp</th>\n",
       "      <th># MOOCs Finished</th>\n",
       "      <th>How important is the ability to earn a certificate when you complete a MOOC?</th>\n",
       "    </tr>\n",
       "  </thead>\n",
       "  <tbody>\n",
       "    <tr>\n",
       "      <th>0</th>\n",
       "      <td>2016/11/28 11:59:22 AM PST</td>\n",
       "      <td>4.5</td>\n",
       "      <td>1.0</td>\n",
       "    </tr>\n",
       "    <tr>\n",
       "      <th>1</th>\n",
       "      <td>2016/12/01 6:45:40 AM PST</td>\n",
       "      <td>0</td>\n",
       "      <td>4.0</td>\n",
       "    </tr>\n",
       "    <tr>\n",
       "      <th>2</th>\n",
       "      <td>2016/12/01 6:54:23 AM PST</td>\n",
       "      <td>8</td>\n",
       "      <td>2.0</td>\n",
       "    </tr>\n",
       "    <tr>\n",
       "      <th>3</th>\n",
       "      <td>2016/12/01 7:17:09 AM PST</td>\n",
       "      <td>4.5</td>\n",
       "      <td>1.0</td>\n",
       "    </tr>\n",
       "    <tr>\n",
       "      <th>4</th>\n",
       "      <td>2016/12/01 7:24:51 AM PST</td>\n",
       "      <td>2.5</td>\n",
       "      <td>2.0</td>\n",
       "    </tr>\n",
       "  </tbody>\n",
       "</table>\n",
       "</div>"
      ],
      "text/plain": [
       "                    Timestamp # MOOCs Finished  \\\n",
       "0  2016/11/28 11:59:22 AM PST              4.5   \n",
       "1   2016/12/01 6:45:40 AM PST                0   \n",
       "2   2016/12/01 6:54:23 AM PST                8   \n",
       "3   2016/12/01 7:17:09 AM PST              4.5   \n",
       "4   2016/12/01 7:24:51 AM PST              2.5   \n",
       "\n",
       "   How important is the ability to earn a certificate when you complete a MOOC?  \n",
       "0                                                1.0                             \n",
       "1                                                4.0                             \n",
       "2                                                2.0                             \n",
       "3                                                1.0                             \n",
       "4                                                2.0                             "
      ]
     },
     "execution_count": 4,
     "metadata": {},
     "output_type": "execute_result"
    }
   ],
   "source": [
    "df_select = df.loc[:, selectors]\n",
    "df_select.head()"
   ]
  },
  {
   "cell_type": "code",
   "execution_count": 5,
   "metadata": {},
   "outputs": [
    {
     "data": {
      "text/plain": [
       "2491"
      ]
     },
     "execution_count": 5,
     "metadata": {},
     "output_type": "execute_result"
    }
   ],
   "source": [
    "len(df_select)"
   ]
  },
  {
   "cell_type": "code",
   "execution_count": 6,
   "metadata": {
    "collapsed": true
   },
   "outputs": [],
   "source": [
    "table = pd.pivot_table(df_select, values = 'Timestamp', index = ['How important is the ability to earn a certificate when you complete a MOOC?'], \n",
    "                      columns =['# MOOCs Finished'], aggfunc = lambda x: len(x.unique()))"
   ]
  },
  {
   "cell_type": "code",
   "execution_count": 7,
   "metadata": {},
   "outputs": [
    {
     "data": {
      "text/html": [
       "<div>\n",
       "<style>\n",
       "    .dataframe thead tr:only-child th {\n",
       "        text-align: right;\n",
       "    }\n",
       "\n",
       "    .dataframe thead th {\n",
       "        text-align: left;\n",
       "    }\n",
       "\n",
       "    .dataframe tbody tr th {\n",
       "        vertical-align: top;\n",
       "    }\n",
       "</style>\n",
       "<table border=\"1\" class=\"dataframe\">\n",
       "  <thead>\n",
       "    <tr style=\"text-align: right;\">\n",
       "      <th># MOOCs Finished</th>\n",
       "      <th>0</th>\n",
       "      <th>1</th>\n",
       "      <th>15</th>\n",
       "      <th>2.5</th>\n",
       "      <th>25</th>\n",
       "      <th>4.5</th>\n",
       "      <th>8</th>\n",
       "    </tr>\n",
       "    <tr>\n",
       "      <th>How important is the ability to earn a certificate when you complete a MOOC?</th>\n",
       "      <th></th>\n",
       "      <th></th>\n",
       "      <th></th>\n",
       "      <th></th>\n",
       "      <th></th>\n",
       "      <th></th>\n",
       "      <th></th>\n",
       "    </tr>\n",
       "  </thead>\n",
       "  <tbody>\n",
       "    <tr>\n",
       "      <th>1.0</th>\n",
       "      <td>108</td>\n",
       "      <td>44</td>\n",
       "      <td>40</td>\n",
       "      <td>75</td>\n",
       "      <td>36</td>\n",
       "      <td>59</td>\n",
       "      <td>53</td>\n",
       "    </tr>\n",
       "    <tr>\n",
       "      <th>2.0</th>\n",
       "      <td>83</td>\n",
       "      <td>48</td>\n",
       "      <td>15</td>\n",
       "      <td>72</td>\n",
       "      <td>13</td>\n",
       "      <td>30</td>\n",
       "      <td>25</td>\n",
       "    </tr>\n",
       "    <tr>\n",
       "      <th>3.0</th>\n",
       "      <td>190</td>\n",
       "      <td>63</td>\n",
       "      <td>22</td>\n",
       "      <td>105</td>\n",
       "      <td>30</td>\n",
       "      <td>62</td>\n",
       "      <td>42</td>\n",
       "    </tr>\n",
       "    <tr>\n",
       "      <th>4.0</th>\n",
       "      <td>176</td>\n",
       "      <td>62</td>\n",
       "      <td>25</td>\n",
       "      <td>85</td>\n",
       "      <td>26</td>\n",
       "      <td>68</td>\n",
       "      <td>43</td>\n",
       "    </tr>\n",
       "    <tr>\n",
       "      <th>5.0</th>\n",
       "      <td>351</td>\n",
       "      <td>83</td>\n",
       "      <td>27</td>\n",
       "      <td>97</td>\n",
       "      <td>34</td>\n",
       "      <td>56</td>\n",
       "      <td>36</td>\n",
       "    </tr>\n",
       "  </tbody>\n",
       "</table>\n",
       "</div>"
      ],
      "text/plain": [
       "# MOOCs Finished                                      0   1  15  2.5  25  4.5  \\\n",
       "How important is the ability to earn a certific...                              \n",
       "1.0                                                 108  44  40   75  36   59   \n",
       "2.0                                                  83  48  15   72  13   30   \n",
       "3.0                                                 190  63  22  105  30   62   \n",
       "4.0                                                 176  62  25   85  26   68   \n",
       "5.0                                                 351  83  27   97  34   56   \n",
       "\n",
       "# MOOCs Finished                                     8  \n",
       "How important is the ability to earn a certific...      \n",
       "1.0                                                 53  \n",
       "2.0                                                 25  \n",
       "3.0                                                 42  \n",
       "4.0                                                 43  \n",
       "5.0                                                 36  "
      ]
     },
     "execution_count": 7,
     "metadata": {},
     "output_type": "execute_result"
    }
   ],
   "source": [
    "table"
   ]
  },
  {
   "cell_type": "code",
   "execution_count": 8,
   "metadata": {},
   "outputs": [],
   "source": [
    "table = table[['0', '1', '2.5', '4.5', '8', '15', '25']]\n",
    "new_table = table.loc[:,:].div(table.sum(axis=0), axis=1).mul(100)"
   ]
  },
  {
   "cell_type": "code",
   "execution_count": 9,
   "metadata": {},
   "outputs": [
    {
     "data": {
      "text/plain": [
       "Float64Index([1.0, 2.0, 3.0, 4.0, 5.0], dtype='float64', name='How important is the ability to earn a certificate when you complete a MOOC?')"
      ]
     },
     "execution_count": 9,
     "metadata": {},
     "output_type": "execute_result"
    }
   ],
   "source": [
    "new_table.index"
   ]
  },
  {
   "cell_type": "code",
   "execution_count": 10,
   "metadata": {},
   "outputs": [
    {
     "data": {
      "text/plain": [
       "<matplotlib.axes._subplots.AxesSubplot at 0x11321ceb8>"
      ]
     },
     "execution_count": 10,
     "metadata": {},
     "output_type": "execute_result"
    }
   ],
   "source": [
    "#sns.heatmap(new_table.iloc[::-1], annot=True, fmt='2.0f', cbar = False, cmap=\"Greens\")\n",
    "sns.heatmap(new_table.iloc[[4, 0], :], annot=True, fmt='2.0f', cbar = False, cmap=\"Greens\")"
   ]
  },
  {
   "cell_type": "code",
   "execution_count": 11,
   "metadata": {
    "scrolled": true
   },
   "outputs": [
    {
     "data": {
      "image/png": "[encoded data removed]",
      "text/plain": [
       "<matplotlib.figure.Figure at 0x1127128d0>"
      ]
     },
     "metadata": {},
     "output_type": "display_data"
    }
   ],
   "source": [
    "plt.show()"
   ]
  }
 ],
 "metadata": {
  "kernelspec": {
   "display_name": "Python 3",
   "language": "python",
   "name": "python3"
  },
  "language_info": {
   "codemirror_mode": {
    "name": "ipython",
    "version": 3
   },
   "file_extension": ".py",
   "mimetype": "text/x-python",
   "name": "python",
   "nbconvert_exporter": "python",
   "pygments_lexer": "ipython3",
   "version": "3.6.1"
  }
 },
 "nbformat": 4,
 "nbformat_minor": 2
}
