{
 "cells": [
  {
   "cell_type": "markdown",
   "metadata": {},
   "source": [
    "# Class Central Survey: compare target group with the rest of the sample"
   ]
  },
  {
   "cell_type": "code",
   "execution_count": 1,
   "metadata": {
    "collapsed": true
   },
   "outputs": [],
   "source": [
    "import pandas as pd\n",
    "import seaborn as sns\n",
    "import matplotlib.pyplot as plt\n",
    "sns.set(style=\"white\")"
   ]
  },
  {
   "cell_type": "markdown",
   "metadata": {},
   "source": [
    "## Read the survey data"
   ]
  },
  {
   "cell_type": "code",
   "execution_count": 2,
   "metadata": {},
   "outputs": [],
   "source": [
    "df = pd.read_csv('raw/2016-17-ClassCentral-Survey-data.csv', sep=';', decimal=',', skiprows=1)"
   ]
  },
  {
   "cell_type": "markdown",
   "metadata": {},
   "source": [
    "## Create target group and make an example barchart plot "
   ]
  },
  {
   "cell_type": "code",
   "execution_count": 3,
   "metadata": {},
   "outputs": [
    {
     "data": {
      "text/plain": [
       "United States                 818\n",
       "Western Europe (except UK)    287\n",
       "Africa                        276\n",
       "India                         219\n",
       "East & Southeast Asia         200\n",
       "Eastern Europe                153\n",
       "Central or South America      147\n",
       "Canada                        104\n",
       "United Kingdom                 98\n",
       "Australia / New Zealand        92\n",
       "Mexico                         47\n",
       "Name: Which region of the world are you in?, dtype: int64"
      ]
     },
     "execution_count": 3,
     "metadata": {},
     "output_type": "execute_result"
    }
   ],
   "source": [
    "df['Which region of the world are you in?'].value_counts()"
   ]
  },
  {
   "cell_type": "code",
   "execution_count": 4,
   "metadata": {},
   "outputs": [
    {
     "data": {
      "text/plain": [
       "(194, 2298)"
      ]
     },
     "execution_count": 4,
     "metadata": {},
     "output_type": "execute_result"
    }
   ],
   "source": [
    "target_name = 'Latin America'\n",
    "mask_latin_america = (df['Which region of the world are you in?'] == 'Central or South America') | \\\n",
    "    (df['Which region of the world are you in?'] =='Mexico')\n",
    "target = df[mask_latin_america]\n",
    "row = df[~mask_latin_america]\n",
    "target_size, row_size = len(df[mask_latin_america]), len(df[~mask_latin_america])\n",
    "target_size, row_size"
   ]
  },
  {
   "cell_type": "code",
   "execution_count": 5,
   "metadata": {},
   "outputs": [
    {
     "data": {
      "text/plain": [
       "(194, 2298)"
      ]
     },
     "execution_count": 5,
     "metadata": {},
     "output_type": "execute_result"
    }
   ],
   "source": [
    "len(df[mask_latin_america]), len(df[~mask_latin_america])"
   ]
  },
  {
   "cell_type": "code",
   "execution_count": 6,
   "metadata": {},
   "outputs": [],
   "source": [
    "res_target = target['How familiar are you with MOOCs?'].value_counts()/target_size*100"
   ]
  },
  {
   "cell_type": "code",
   "execution_count": 7,
   "metadata": {},
   "outputs": [
    {
     "data": {
      "text/plain": [
       "5.0    30.939948\n",
       "4.0    22.106179\n",
       "1.0    21.671018\n",
       "3.0    14.490862\n",
       "2.0     9.747607\n",
       "Name: How familiar are you with MOOCs?, dtype: float64"
      ]
     },
     "execution_count": 7,
     "metadata": {},
     "output_type": "execute_result"
    }
   ],
   "source": [
    "res_row = row['How familiar are you with MOOCs?'].value_counts()/row_size*100\n",
    "res_row"
   ]
  },
  {
   "cell_type": "code",
   "execution_count": 8,
   "metadata": {},
   "outputs": [
    {
     "data": {
      "text/html": [
       "<div>\n",
       "<style>\n",
       "    .dataframe thead tr:only-child th {\n",
       "        text-align: right;\n",
       "    }\n",
       "\n",
       "    .dataframe thead th {\n",
       "        text-align: left;\n",
       "    }\n",
       "\n",
       "    .dataframe tbody tr th {\n",
       "        vertical-align: top;\n",
       "    }\n",
       "</style>\n",
       "<table border=\"1\" class=\"dataframe\">\n",
       "  <thead>\n",
       "    <tr style=\"text-align: right;\">\n",
       "      <th></th>\n",
       "      <th>Latin America</th>\n",
       "      <th>Rest of the World</th>\n",
       "      <th>answer</th>\n",
       "    </tr>\n",
       "  </thead>\n",
       "  <tbody>\n",
       "    <tr>\n",
       "      <th>1.0</th>\n",
       "      <td>13.402062</td>\n",
       "      <td>21.671018</td>\n",
       "      <td>1.0</td>\n",
       "    </tr>\n",
       "    <tr>\n",
       "      <th>2.0</th>\n",
       "      <td>7.216495</td>\n",
       "      <td>9.747607</td>\n",
       "      <td>2.0</td>\n",
       "    </tr>\n",
       "    <tr>\n",
       "      <th>3.0</th>\n",
       "      <td>13.917526</td>\n",
       "      <td>14.490862</td>\n",
       "      <td>3.0</td>\n",
       "    </tr>\n",
       "    <tr>\n",
       "      <th>4.0</th>\n",
       "      <td>26.288660</td>\n",
       "      <td>22.106179</td>\n",
       "      <td>4.0</td>\n",
       "    </tr>\n",
       "    <tr>\n",
       "      <th>5.0</th>\n",
       "      <td>39.175258</td>\n",
       "      <td>30.939948</td>\n",
       "      <td>5.0</td>\n",
       "    </tr>\n",
       "  </tbody>\n",
       "</table>\n",
       "</div>"
      ],
      "text/plain": [
       "     Latin America  Rest of the World  answer\n",
       "1.0      13.402062          21.671018     1.0\n",
       "2.0       7.216495           9.747607     2.0\n",
       "3.0      13.917526          14.490862     3.0\n",
       "4.0      26.288660          22.106179     4.0\n",
       "5.0      39.175258          30.939948     5.0"
      ]
     },
     "execution_count": 8,
     "metadata": {},
     "output_type": "execute_result"
    }
   ],
   "source": [
    "result = pd.DataFrame({target_name: res_target, 'Rest of the World': res_row})\n",
    "answer = 'answer'\n",
    "result[answer] = result.index\n",
    "result"
   ]
  },
  {
   "cell_type": "code",
   "execution_count": 9,
   "metadata": {},
   "outputs": [
    {
     "data": {
      "text/html": [
       "<div>\n",
       "<style>\n",
       "    .dataframe thead tr:only-child th {\n",
       "        text-align: right;\n",
       "    }\n",
       "\n",
       "    .dataframe thead th {\n",
       "        text-align: left;\n",
       "    }\n",
       "\n",
       "    .dataframe tbody tr th {\n",
       "        vertical-align: top;\n",
       "    }\n",
       "</style>\n",
       "<table border=\"1\" class=\"dataframe\">\n",
       "  <thead>\n",
       "    <tr style=\"text-align: right;\">\n",
       "      <th></th>\n",
       "      <th>answer</th>\n",
       "      <th>loc</th>\n",
       "      <th>percent</th>\n",
       "    </tr>\n",
       "  </thead>\n",
       "  <tbody>\n",
       "    <tr>\n",
       "      <th>0</th>\n",
       "      <td>1.0</td>\n",
       "      <td>Latin America</td>\n",
       "      <td>13.402062</td>\n",
       "    </tr>\n",
       "    <tr>\n",
       "      <th>1</th>\n",
       "      <td>2.0</td>\n",
       "      <td>Latin America</td>\n",
       "      <td>7.216495</td>\n",
       "    </tr>\n",
       "    <tr>\n",
       "      <th>2</th>\n",
       "      <td>3.0</td>\n",
       "      <td>Latin America</td>\n",
       "      <td>13.917526</td>\n",
       "    </tr>\n",
       "    <tr>\n",
       "      <th>3</th>\n",
       "      <td>4.0</td>\n",
       "      <td>Latin America</td>\n",
       "      <td>26.288660</td>\n",
       "    </tr>\n",
       "    <tr>\n",
       "      <th>4</th>\n",
       "      <td>5.0</td>\n",
       "      <td>Latin America</td>\n",
       "      <td>39.175258</td>\n",
       "    </tr>\n",
       "    <tr>\n",
       "      <th>5</th>\n",
       "      <td>1.0</td>\n",
       "      <td>Rest of the World</td>\n",
       "      <td>21.671018</td>\n",
       "    </tr>\n",
       "    <tr>\n",
       "      <th>6</th>\n",
       "      <td>2.0</td>\n",
       "      <td>Rest of the World</td>\n",
       "      <td>9.747607</td>\n",
       "    </tr>\n",
       "    <tr>\n",
       "      <th>7</th>\n",
       "      <td>3.0</td>\n",
       "      <td>Rest of the World</td>\n",
       "      <td>14.490862</td>\n",
       "    </tr>\n",
       "    <tr>\n",
       "      <th>8</th>\n",
       "      <td>4.0</td>\n",
       "      <td>Rest of the World</td>\n",
       "      <td>22.106179</td>\n",
       "    </tr>\n",
       "    <tr>\n",
       "      <th>9</th>\n",
       "      <td>5.0</td>\n",
       "      <td>Rest of the World</td>\n",
       "      <td>30.939948</td>\n",
       "    </tr>\n",
       "  </tbody>\n",
       "</table>\n",
       "</div>"
      ],
      "text/plain": [
       "   answer                loc    percent\n",
       "0     1.0      Latin America  13.402062\n",
       "1     2.0      Latin America   7.216495\n",
       "2     3.0      Latin America  13.917526\n",
       "3     4.0      Latin America  26.288660\n",
       "4     5.0      Latin America  39.175258\n",
       "5     1.0  Rest of the World  21.671018\n",
       "6     2.0  Rest of the World   9.747607\n",
       "7     3.0  Rest of the World  14.490862\n",
       "8     4.0  Rest of the World  22.106179\n",
       "9     5.0  Rest of the World  30.939948"
      ]
     },
     "execution_count": 9,
     "metadata": {},
     "output_type": "execute_result"
    }
   ],
   "source": [
    "res_df = pd.melt(result, id_vars=answer, var_name='loc', value_name='percent')\n",
    "res_df"
   ]
  },
  {
   "cell_type": "code",
   "execution_count": 10,
   "metadata": {},
   "outputs": [
    {
     "data": {
      "image/png": "[encoded data removed]",
      "text/plain": [
       "<matplotlib.figure.Figure at 0x10da38b38>"
      ]
     },
     "metadata": {},
     "output_type": "display_data"
    }
   ],
   "source": [
    "sns.factorplot(x='percent', y=answer, hue='loc', data=res_df, kind='bar', orient='h')\n",
    "plt.title('MOOC familiarity')\n",
    "plt.show()\n"
   ]
  },
  {
   "cell_type": "markdown",
   "metadata": {},
   "source": [
    "Latin American visitors are more familiar with MOOCs than visitors from the rest of the world"
   ]
  },
  {
   "cell_type": "markdown",
   "metadata": {},
   "source": [
    "## Create a generic function that can plot a barchart for any categorical feature on any target/nontarget split "
   ]
  },
  {
   "cell_type": "code",
   "execution_count": 11,
   "metadata": {},
   "outputs": [],
   "source": [
    "def binary_compare_categorical_feature_barh(mask, feature, df=df,\n",
    "                                            target_name='target', nontarget_name='Rest of the World', \n",
    "                                            split_name='visitor', answer='answer'):\n",
    "    \"\"\"Split dataframe into two based on mask\n",
    "    Draw horizontal barcharts for each category item for both masked and unmasked object\"\"\"\n",
    "    target = df[mask]\n",
    "    nontarget = df[~mask]\n",
    "    target_size, nontarget_size = len(target), len(nontarget)\n",
    "    \n",
    "    res_target = target[feature].value_counts()/target_size*100\n",
    "    res_nontarget = nontarget[feature].value_counts()/row_size*100\n",
    "    \n",
    "    result = pd.DataFrame({target_name: res_target, nontarget_name: res_nontarget})\n",
    "    result[answer] = result.index\n",
    "    \n",
    "    res_df = pd.melt(result, id_vars=answer, var_name=split_name, value_name='percent')\n",
    "    \n",
    "    sns.factorplot(x='percent', y=answer, hue=split_name, data=res_df, kind='bar', orient='h')\n",
    "    plt.title(feature)\n",
    "    plt.show()"
   ]
  },
  {
   "cell_type": "markdown",
   "metadata": {},
   "source": [
    "## Apply this plot on the target 'Latin America' for some categorical features"
   ]
  },
  {
   "cell_type": "code",
   "execution_count": 12,
   "metadata": {},
   "outputs": [
    {
     "data": {
      "image/png": "[encoded data removed]",
      "text/plain": [
       "<matplotlib.figure.Figure at 0x11188d7f0>"
      ]
     },
     "metadata": {},
     "output_type": "display_data"
    }
   ],
   "source": [
    "binary_compare_categorical_feature_barh(mask=mask_latin_america, \n",
    "                                        target_name='Latin America', feature='# MOOCs Finished')"
   ]
  },
  {
   "cell_type": "markdown",
   "metadata": {},
   "source": [
    "Latin American Class Central visitors are more experienced compared to the rest of the world, they have in general finished more MOOCs"
   ]
  },
  {
   "cell_type": "code",
   "execution_count": 13,
   "metadata": {},
   "outputs": [
    {
     "data": {
      "image/png": "[encoded data removed]",
      "text/plain": [
       "<matplotlib.figure.Figure at 0x111b39e80>"
      ]
     },
     "metadata": {},
     "output_type": "display_data"
    }
   ],
   "source": [
    "binary_compare_categorical_feature_barh(mask=mask_latin_america, \n",
    "                                        target_name='Latin America', feature='When did you first start taking MOOCs?')"
   ]
  },
  {
   "cell_type": "markdown",
   "metadata": {},
   "source": [
    "They also started earlier with MOOCs"
   ]
  },
  {
   "cell_type": "code",
   "execution_count": 14,
   "metadata": {},
   "outputs": [
    {
     "data": {
      "image/png": "[encoded data removed]",
      "text/plain": [
       "<matplotlib.figure.Figure at 0x111877c18>"
      ]
     },
     "metadata": {},
     "output_type": "display_data"
    }
   ],
   "source": [
    "binary_compare_categorical_feature_barh(mask=mask_latin_america, \n",
    "                                        target_name='Latin America', feature='How willing are you to pay for a certificate for a MOOC?')"
   ]
  },
  {
   "cell_type": "markdown",
   "metadata": {},
   "source": [
    "Latin American Class Central visitor show a higher willingness to pay for a MOOC certificate"
   ]
  },
  {
   "cell_type": "code",
   "execution_count": 15,
   "metadata": {},
   "outputs": [
    {
     "data": {
      "image/png": "[encoded data removed]",
      "text/plain": [
       "<matplotlib.figure.Figure at 0x111f52e80>"
      ]
     },
     "metadata": {},
     "output_type": "display_data"
    }
   ],
   "source": [
    "binary_compare_categorical_feature_barh(mask=mask_latin_america, \n",
    "                                        target_name='Latin America', \n",
    "                                        feature='How much do you think employers value MOOC certificates?')"
   ]
  },
  {
   "cell_type": "markdown",
   "metadata": {},
   "source": [
    "Latin American Class Central visitors think employers value MOOC certificates somewhat more than in the rest of the world"
   ]
  }
 ],
 "metadata": {
  "kernelspec": {
   "display_name": "Python 3",
   "language": "python",
   "name": "python3"
  },
  "language_info": {
   "codemirror_mode": {
    "name": "ipython",
    "version": 3
   },
   "file_extension": ".py",
   "mimetype": "text/x-python",
   "name": "python",
   "nbconvert_exporter": "python",
   "pygments_lexer": "ipython3",
   "version": "3.6.1"
  }
 },
 "nbformat": 4,
 "nbformat_minor": 2
}
